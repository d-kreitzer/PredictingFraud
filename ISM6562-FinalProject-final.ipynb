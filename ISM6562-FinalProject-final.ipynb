{
 "cells": [
  {
   "cell_type": "markdown",
   "metadata": {
    "application/vnd.databricks.v1+cell": {
     "cellMetadata": {},
     "inputWidgets": {},
     "nuid": "91726f3e-43b5-4787-bd3b-ba92e2f94249",
     "showTitle": false,
     "tableResultSettingsMap": {},
     "title": ""
    }
   },
   "source": [
    "## 1. Load Data"
   ]
  },
  {
   "cell_type": "code",
   "execution_count": 0,
   "metadata": {
    "application/vnd.databricks.v1+cell": {
     "cellMetadata": {
      "byteLimit": 2048000,
      "rowLimit": 10000
     },
     "inputWidgets": {},
     "nuid": "c4eedebd-de0e-4dff-80b5-29935a957119",
     "showTitle": false,
     "tableResultSettingsMap": {},
     "title": ""
    }
   },
   "outputs": [],
   "source": [
    "from pyspark.sql.functions import explode, col, when, regexp_replace\n",
    "from pyspark.sql.types import MapType, StringType\n",
    "\n",
    "# Load transactions\n",
    "transactions = spark.read.csv(\"/FileStore/transactions_data.csv\", header=True, inferSchema=True)\n",
    "# Remove \"$\" and cast variables\n",
    "transactions = transactions.withColumn(\"amount\", regexp_replace(col(\"amount\"), r\"[\\$,]\", \"\").cast(\"double\"))\n",
    "transactions.createOrReplaceTempView(\"transactions\")\n",
    "\n",
    "# Load cards\n",
    "cards = spark.read.csv(\"/FileStore/cards_data.csv\", header=True, inferSchema=True)\n",
    "# Remove \"$\" and cast variables\n",
    "cards = cards.withColumn(\"credit_limit\", regexp_replace(col(\"credit_limit\"), r\"[\\$,]\", \"\").cast(\"double\"))\n",
    "cards.createOrReplaceTempView(\"cards\")\n",
    "\n",
    "# Load users\n",
    "users = spark.read.csv(\"/FileStore/users_data.csv\", header=True, inferSchema=True)\n",
    "# Remove \"$\" and cast variables\n",
    "users = users.withColumn(\"per_capita_income\", regexp_replace(col(\"per_capita_income\"), r\"[\\$,]\", \"\").cast(\"double\"))\n",
    "users.createOrReplaceTempView(\"users\")\n",
    "\n",
    "# Load fraud labels\n",
    "fraud_labels = spark.read.schema(\"target MAP<STRING, STRING>\").json(\"/FileStore/train_fraud_labels.json\")\n",
    "fraud_labels = fraud_labels.selectExpr(\"explode(target) AS (transaction_id, fraud)\")\n",
    "fraud_labels = fraud_labels.withColumn(\"fraud\", when(col(\"fraud\") == \"Yes\", 1).otherwise(0))\n",
    "fraud_labels.createOrReplaceTempView(\"fraud_labels\")"
   ]
  },
  {
   "cell_type": "markdown",
   "metadata": {
    "application/vnd.databricks.v1+cell": {
     "cellMetadata": {},
     "inputWidgets": {},
     "nuid": "5bcef8c5-94cc-4504-ab1d-98c8ddbf32d5",
     "showTitle": false,
     "tableResultSettingsMap": {},
     "title": ""
    }
   },
   "source": [
    "## 2. Merge Data"
   ]
  },
  {
   "cell_type": "code",
   "execution_count": 0,
   "metadata": {
    "application/vnd.databricks.v1+cell": {
     "cellMetadata": {
      "byteLimit": 2048000,
      "implicitDf": true,
      "rowLimit": 10000
     },
     "inputWidgets": {},
     "nuid": "a5516786-f975-4b34-8349-094e1b597083",
     "showTitle": false,
     "tableResultSettingsMap": {},
     "title": ""
    }
   },
   "outputs": [
    {
     "output_type": "display_data",
     "data": {
      "text/html": [
       "<style scoped>\n",
       "  .table-result-container {\n",
       "    max-height: 300px;\n",
       "    overflow: auto;\n",
       "  }\n",
       "  table, th, td {\n",
       "    border: 1px solid black;\n",
       "    border-collapse: collapse;\n",
       "  }\n",
       "  th, td {\n",
       "    padding: 5px;\n",
       "  }\n",
       "  th {\n",
       "    text-align: left;\n",
       "  }\n",
       "</style><div class='table-result-container'><table class='table-result'><thead style='background-color: white'><tr></tr></thead><tbody></tbody></table></div>"
      ]
     },
     "metadata": {
      "application/vnd.databricks.v1+output": {
       "addedWidgets": {},
       "aggData": [],
       "aggError": "",
       "aggOverflow": false,
       "aggSchema": [],
       "aggSeriesLimitReached": false,
       "aggType": "",
       "arguments": {},
       "columnCustomDisplayInfos": {},
       "data": [],
       "datasetInfos": [],
       "dbfsResultPath": null,
       "isJsonSchema": true,
       "metadata": {},
       "overflow": false,
       "plotOptions": {
        "customPlotOptions": {},
        "displayType": "table",
        "pivotAggregation": null,
        "pivotColumns": null,
        "xColumns": null,
        "yColumns": null
       },
       "removedWidgets": [],
       "schema": [],
       "type": "table"
      }
     },
     "output_type": "display_data"
    }
   ],
   "source": [
    "%sql\n",
    "CREATE OR REPLACE TEMP VIEW merged_transactions AS\n",
    "SELECT \n",
    "    t.id AS transaction_id,\n",
    "    t.date,\n",
    "    t.amount,\n",
    "    t.merchant_city,\n",
    "    t.merchant_state,\n",
    "    t.zip,\n",
    "    c.card_brand,\n",
    "    c.card_type,\n",
    "    c.credit_limit,\n",
    "    u.current_age,\n",
    "    u.per_capita_income,\n",
    "    f.fraud\n",
    "FROM transactions t\n",
    "LEFT JOIN cards c ON t.card_id = c.id\n",
    "LEFT JOIN users u ON t.client_id = u.id\n",
    "LEFT JOIN fraud_labels f ON t.id = f.transaction_id;"
   ]
  },
  {
   "cell_type": "markdown",
   "metadata": {
    "application/vnd.databricks.v1+cell": {
     "cellMetadata": {},
     "inputWidgets": {},
     "nuid": "c0e177f1-5c1a-432a-b6db-1cd6db5c30d7",
     "showTitle": false,
     "tableResultSettingsMap": {},
     "title": ""
    }
   },
   "source": [
    "## 3. Exploratory Data Analysis"
   ]
  },
  {
   "cell_type": "markdown",
   "metadata": {
    "application/vnd.databricks.v1+cell": {
     "cellMetadata": {},
     "inputWidgets": {},
     "nuid": "a0273afa-bd73-4a32-9797-4a8135018d58",
     "showTitle": false,
     "tableResultSettingsMap": {},
     "title": ""
    }
   },
   "source": [
    "### 3.1 Total Transactions and Fraudulent Transactions"
   ]
  },
  {
   "cell_type": "code",
   "execution_count": 0,
   "metadata": {
    "application/vnd.databricks.v1+cell": {
     "cellMetadata": {
      "byteLimit": 2048000,
      "implicitDf": true,
      "rowLimit": 10000
     },
     "inputWidgets": {},
     "nuid": "49d3afc4-6359-4cc3-ade8-02eacde29225",
     "showTitle": false,
     "tableResultSettingsMap": {},
     "title": ""
    }
   },
   "outputs": [
    {
     "output_type": "display_data",
     "data": {
      "text/html": [
       "<style scoped>\n",
       "  .table-result-container {\n",
       "    max-height: 300px;\n",
       "    overflow: auto;\n",
       "  }\n",
       "  table, th, td {\n",
       "    border: 1px solid black;\n",
       "    border-collapse: collapse;\n",
       "  }\n",
       "  th, td {\n",
       "    padding: 5px;\n",
       "  }\n",
       "  th {\n",
       "    text-align: left;\n",
       "  }\n",
       "</style><div class='table-result-container'><table class='table-result'><thead style='background-color: white'><tr><th>merchant_state</th><th>total_transactions</th><th>fraudulent_transactions</th><th>fraud_percentage</th></tr></thead><tbody><tr><td>Tuvalu</td><td>5</td><td>5</td><td>100.0</td></tr><tr><td>Haiti</td><td>386</td><td>253</td><td>65.54</td></tr><tr><td>Italy</td><td>7081</td><td>3061</td><td>43.23</td></tr><tr><td>null</td><td>1563700</td><td>8779</td><td>0.56</td></tr><tr><td>OH</td><td>484122</td><td>316</td><td>0.07</td></tr><tr><td>SD</td><td>31090</td><td>8</td><td>0.03</td></tr><tr><td>MO</td><td>195854</td><td>32</td><td>0.02</td></tr><tr><td>IA</td><td>161261</td><td>32</td><td>0.02</td></tr><tr><td>VA</td><td>230685</td><td>26</td><td>0.01</td></tr><tr><td>SC</td><td>172753</td><td>17</td><td>0.01</td></tr></tbody></table></div>"
      ]
     },
     "metadata": {
      "application/vnd.databricks.v1+output": {
       "addedWidgets": {},
       "aggData": [],
       "aggError": "",
       "aggOverflow": false,
       "aggSchema": [],
       "aggSeriesLimitReached": false,
       "aggType": "",
       "arguments": {},
       "columnCustomDisplayInfos": {},
       "data": [
        [
         "Tuvalu",
         5,
         5,
         100.0
        ],
        [
         "Haiti",
         386,
         253,
         65.54
        ],
        [
         "Italy",
         7081,
         3061,
         43.23
        ],
        [
         null,
         1563700,
         8779,
         0.56
        ],
        [
         "OH",
         484122,
         316,
         0.07
        ],
        [
         "SD",
         31090,
         8,
         0.03
        ],
        [
         "MO",
         195854,
         32,
         0.02
        ],
        [
         "IA",
         161261,
         32,
         0.02
        ],
        [
         "VA",
         230685,
         26,
         0.01
        ],
        [
         "SC",
         172753,
         17,
         0.01
        ]
       ],
       "datasetInfos": [],
       "dbfsResultPath": null,
       "isJsonSchema": true,
       "metadata": {},
       "overflow": false,
       "plotOptions": {
        "customPlotOptions": {},
        "displayType": "table",
        "pivotAggregation": null,
        "pivotColumns": null,
        "xColumns": null,
        "yColumns": null
       },
       "removedWidgets": [],
       "schema": [
        {
         "metadata": "{}",
         "name": "merchant_state",
         "type": "\"string\""
        },
        {
         "metadata": "{}",
         "name": "total_transactions",
         "type": "\"long\""
        },
        {
         "metadata": "{}",
         "name": "fraudulent_transactions",
         "type": "\"long\""
        },
        {
         "metadata": "{}",
         "name": "fraud_percentage",
         "type": "\"double\""
        }
       ],
       "type": "table"
      }
     },
     "output_type": "display_data"
    },
    {
     "output_type": "display_data",
     "data": {
      "text/plain": [
       "Databricks visualization. Run in Databricks to view."
      ]
     },
     "metadata": {
      "application/vnd.databricks.v1.subcommand+json": {
       "baseErrorDetails": null,
       "bindings": {},
       "collapsed": false,
       "command": "%sql WITH q AS (SELECT \n    merchant_state,\n    COUNT(*) AS total_transactions,\n    SUM(fraud) AS fraudulent_transactions,\n    ROUND(SUM(fraud) / COUNT(*) * 100, 2) AS fraud_percentage\nFROM merged_transactions\nGROUP BY merchant_state\nORDER BY fraud_percentage DESC\nLIMIT 10) SELECT `merchant_state`,SUM(`fraudulent_transactions`) `column_3a77c62d8` FROM q GROUP BY `merchant_state`",
       "commandTitle": "Fraudulent Transactions",
       "commandType": "auto",
       "commandVersion": 0,
       "commentThread": [],
       "commentsVisible": false,
       "contentSha256Hex": null,
       "customPlotOptions": {
        "redashChart": [
         {
          "key": "type",
          "value": "CHART"
         },
         {
          "key": "options",
          "value": {
           "alignYAxesAtZero": true,
           "coefficient": 1,
           "columnConfigurationMap": {
            "x": {
             "column": "merchant_state",
             "id": "column_3a77c62d3"
            },
            "y": [
             {
              "column": "fraudulent_transactions",
              "id": "column_3a77c62d8",
              "transform": "SUM"
             }
            ]
           },
           "dateTimeFormat": "DD/MM/YYYY HH:mm",
           "direction": {
            "type": "counterclockwise"
           },
           "error_y": {
            "type": "data",
            "visible": true
           },
           "globalSeriesType": "column",
           "isAggregationOn": true,
           "legend": {
            "traceorder": "normal"
           },
           "missingValuesAsZero": true,
           "numberFormat": "0,0.[00000]",
           "percentFormat": "0[.]00%",
           "series": {
            "error_y": {
             "type": "data",
             "visible": true
            },
            "stacking": null
           },
           "seriesOptions": {
            "column_3a77c62d11": {
             "type": "column",
             "yAxis": 0
            },
            "column_3a77c62d5": {
             "type": "column",
             "yAxis": 0
            },
            "column_3a77c62d8": {
             "type": "column",
             "yAxis": 0
            }
           },
           "showDataLabels": false,
           "sizemode": "diameter",
           "sortX": true,
           "sortY": true,
           "swappedAxes": false,
           "textFormat": "",
           "useAggregationsUi": true,
           "valuesOptions": {},
           "version": 2,
           "xAxis": {
            "labels": {
             "enabled": true
            },
            "type": "-"
           },
           "yAxis": [
            {
             "type": "-"
            },
            {
             "opposite": true,
             "type": "-"
            }
           ]
          }
         }
        ]
       },
       "datasetPreviewNameToCmdIdMap": {},
       "diffDeletes": [],
       "diffInserts": [],
       "displayType": "redashChart",
       "error": null,
       "errorDetails": null,
       "errorSummary": null,
       "errorTraceType": null,
       "finishTime": 0,
       "globalVars": {},
       "guid": "",
       "height": "auto",
       "hideCommandCode": false,
       "hideCommandResult": false,
       "iPythonMetadata": null,
       "inputWidgets": {},
       "isLockedInExamMode": false,
       "latestUser": "a user",
       "latestUserId": null,
       "listResultMetadata": null,
       "metadata": {},
       "nuid": "b75a621c-a5e0-4527-a334-43f1f24e5ecf",
       "origId": 0,
       "parentHierarchy": [],
       "pivotAggregation": null,
       "pivotColumns": null,
       "position": 103.0,
       "resultDbfsErrorMessage": null,
       "resultDbfsStatus": "INLINED_IN_TREE",
       "results": null,
       "showCommandTitle": false,
       "startTime": 0,
       "state": "input",
       "streamStates": {},
       "subcommandOptions": {
        "queryPlan": {
         "groups": [
          {
           "column": "merchant_state",
           "type": "column"
          }
         ],
         "selects": [
          {
           "column": "merchant_state",
           "type": "column"
          },
          {
           "alias": "column_3a77c62d8",
           "args": [
            {
             "column": "fraudulent_transactions",
             "type": "column"
            }
           ],
           "function": "SUM",
           "type": "function"
          }
         ]
        }
       },
       "submitTime": 0,
       "subtype": "tableResultSubCmd.visualization",
       "tableResultIndex": 0,
       "tableResultSettingsMap": {},
       "useConsistentColors": false,
       "version": "CommandV1",
       "width": "auto",
       "workflows": [],
       "xColumns": null,
       "yColumns": null
      }
     },
     "output_type": "display_data"
    }
   ],
   "source": [
    "%sql\n",
    "SELECT \n",
    "    merchant_state,\n",
    "    COUNT(*) AS total_transactions,\n",
    "    SUM(fraud) AS fraudulent_transactions,\n",
    "    ROUND(SUM(fraud) / COUNT(*) * 100, 2) AS fraud_percentage\n",
    "FROM merged_transactions\n",
    "GROUP BY merchant_state\n",
    "ORDER BY fraud_percentage DESC\n",
    "LIMIT 10;"
   ]
  },
  {
   "cell_type": "markdown",
   "metadata": {
    "application/vnd.databricks.v1+cell": {
     "cellMetadata": {},
     "inputWidgets": {},
     "nuid": "a13f8094-b786-4f3c-93fe-279698e99fba",
     "showTitle": false,
     "tableResultSettingsMap": {},
     "title": ""
    }
   },
   "source": [
    "### 3.2 Fraud Distribution by State"
   ]
  },
  {
   "cell_type": "code",
   "execution_count": 0,
   "metadata": {
    "application/vnd.databricks.v1+cell": {
     "cellMetadata": {
      "byteLimit": 2048000,
      "implicitDf": true,
      "rowLimit": 10000
     },
     "inputWidgets": {},
     "nuid": "9d1a6446-ac27-4508-b885-221140718005",
     "showTitle": false,
     "tableResultSettingsMap": {},
     "title": ""
    }
   },
   "outputs": [
    {
     "output_type": "display_data",
     "data": {
      "text/html": [
       "<style scoped>\n",
       "  .table-result-container {\n",
       "    max-height: 300px;\n",
       "    overflow: auto;\n",
       "  }\n",
       "  table, th, td {\n",
       "    border: 1px solid black;\n",
       "    border-collapse: collapse;\n",
       "  }\n",
       "  th, td {\n",
       "    padding: 5px;\n",
       "  }\n",
       "  th {\n",
       "    text-align: left;\n",
       "  }\n",
       "</style><div class='table-result-container'><table class='table-result'><thead style='background-color: white'><tr><th>merchant_state</th><th>total_transactions</th><th>fraudulent_transactions</th><th>fraud_percentage</th></tr></thead><tbody><tr><td>Tuvalu</td><td>5</td><td>5</td><td>100.0</td></tr><tr><td>Haiti</td><td>386</td><td>253</td><td>65.54</td></tr><tr><td>Italy</td><td>7081</td><td>3061</td><td>43.23</td></tr><tr><td>null</td><td>1563700</td><td>8779</td><td>0.56</td></tr><tr><td>OH</td><td>484122</td><td>316</td><td>0.07</td></tr><tr><td>SD</td><td>31090</td><td>8</td><td>0.03</td></tr><tr><td>MO</td><td>195854</td><td>32</td><td>0.02</td></tr><tr><td>IA</td><td>161261</td><td>32</td><td>0.02</td></tr><tr><td>VA</td><td>230685</td><td>26</td><td>0.01</td></tr><tr><td>SC</td><td>172753</td><td>17</td><td>0.01</td></tr></tbody></table></div>"
      ]
     },
     "metadata": {
      "application/vnd.databricks.v1+output": {
       "addedWidgets": {},
       "aggData": [],
       "aggError": "",
       "aggOverflow": false,
       "aggSchema": [],
       "aggSeriesLimitReached": false,
       "aggType": "",
       "arguments": {},
       "columnCustomDisplayInfos": {},
       "data": [
        [
         "Tuvalu",
         5,
         5,
         100.0
        ],
        [
         "Haiti",
         386,
         253,
         65.54
        ],
        [
         "Italy",
         7081,
         3061,
         43.23
        ],
        [
         null,
         1563700,
         8779,
         0.56
        ],
        [
         "OH",
         484122,
         316,
         0.07
        ],
        [
         "SD",
         31090,
         8,
         0.03
        ],
        [
         "MO",
         195854,
         32,
         0.02
        ],
        [
         "IA",
         161261,
         32,
         0.02
        ],
        [
         "VA",
         230685,
         26,
         0.01
        ],
        [
         "SC",
         172753,
         17,
         0.01
        ]
       ],
       "datasetInfos": [],
       "dbfsResultPath": null,
       "isJsonSchema": true,
       "metadata": {
        "dataframeName": "_sqldf",
        "executionCount": 84
       },
       "overflow": false,
       "plotOptions": {
        "customPlotOptions": {},
        "displayType": "table",
        "pivotAggregation": null,
        "pivotColumns": null,
        "xColumns": null,
        "yColumns": null
       },
       "removedWidgets": [],
       "schema": [
        {
         "metadata": "{}",
         "name": "merchant_state",
         "type": "\"string\""
        },
        {
         "metadata": "{}",
         "name": "total_transactions",
         "type": "\"long\""
        },
        {
         "metadata": "{}",
         "name": "fraudulent_transactions",
         "type": "\"long\""
        },
        {
         "metadata": "{}",
         "name": "fraud_percentage",
         "type": "\"double\""
        }
       ],
       "type": "table"
      }
     },
     "output_type": "display_data"
    }
   ],
   "source": [
    "%sql\n",
    "SELECT \n",
    "    merchant_state,\n",
    "    COUNT(*) AS total_transactions,\n",
    "    SUM(fraud) AS fraudulent_transactions,\n",
    "    ROUND(SUM(fraud) / COUNT(*) * 100, 2) AS fraud_percentage\n",
    "FROM merged_transactions\n",
    "GROUP BY merchant_state\n",
    "ORDER BY fraud_percentage DESC\n",
    "LIMIT 10;"
   ]
  },
  {
   "cell_type": "markdown",
   "metadata": {
    "application/vnd.databricks.v1+cell": {
     "cellMetadata": {},
     "inputWidgets": {},
     "nuid": "f3fee3bb-c277-4414-bfe2-05437ab4f4a0",
     "showTitle": false,
     "tableResultSettingsMap": {},
     "title": ""
    }
   },
   "source": [
    "### 3.3 Average Transaction Amount by Fraud Status"
   ]
  },
  {
   "cell_type": "code",
   "execution_count": 0,
   "metadata": {
    "application/vnd.databricks.v1+cell": {
     "cellMetadata": {
      "byteLimit": 2048000,
      "implicitDf": true,
      "rowLimit": 10000
     },
     "inputWidgets": {},
     "nuid": "f962be99-ab2b-4b05-be32-e1fc3570ffc0",
     "showTitle": false,
     "tableResultSettingsMap": {},
     "title": ""
    }
   },
   "outputs": [
    {
     "output_type": "display_data",
     "data": {
      "text/html": [
       "<style scoped>\n",
       "  .table-result-container {\n",
       "    max-height: 300px;\n",
       "    overflow: auto;\n",
       "  }\n",
       "  table, th, td {\n",
       "    border: 1px solid black;\n",
       "    border-collapse: collapse;\n",
       "  }\n",
       "  th, td {\n",
       "    padding: 5px;\n",
       "  }\n",
       "  th {\n",
       "    text-align: left;\n",
       "  }\n",
       "</style><div class='table-result-container'><table class='table-result'><thead style='background-color: white'><tr><th>fraud</th><th>avg_transaction_amount</th></tr></thead><tbody><tr><td>null</td><td>43.03</td></tr><tr><td>1</td><td>110.23</td></tr><tr><td>0</td><td>42.85</td></tr></tbody></table></div>"
      ]
     },
     "metadata": {
      "application/vnd.databricks.v1+output": {
       "addedWidgets": {},
       "aggData": [],
       "aggError": "",
       "aggOverflow": false,
       "aggSchema": [],
       "aggSeriesLimitReached": false,
       "aggType": "",
       "arguments": {},
       "columnCustomDisplayInfos": {},
       "data": [
        [
         null,
         43.03
        ],
        [
         1,
         110.23
        ],
        [
         0,
         42.85
        ]
       ],
       "datasetInfos": [],
       "dbfsResultPath": null,
       "isJsonSchema": true,
       "metadata": {
        "dataframeName": "_sqldf",
        "executionCount": 100
       },
       "overflow": false,
       "plotOptions": {
        "customPlotOptions": {},
        "displayType": "table",
        "pivotAggregation": null,
        "pivotColumns": null,
        "xColumns": null,
        "yColumns": null
       },
       "removedWidgets": [],
       "schema": [
        {
         "metadata": "{}",
         "name": "fraud",
         "type": "\"integer\""
        },
        {
         "metadata": "{}",
         "name": "avg_transaction_amount",
         "type": "\"double\""
        }
       ],
       "type": "table"
      }
     },
     "output_type": "display_data"
    }
   ],
   "source": [
    "%sql\n",
    "SELECT \n",
    "    fraud,\n",
    "    ROUND(AVG(amount), 2) AS avg_transaction_amount\n",
    "FROM merged_transactions\n",
    "GROUP BY fraud;"
   ]
  },
  {
   "cell_type": "markdown",
   "metadata": {
    "application/vnd.databricks.v1+cell": {
     "cellMetadata": {},
     "inputWidgets": {},
     "nuid": "9f99d93b-e17f-453b-8ed0-fb86af8a2d74",
     "showTitle": false,
     "tableResultSettingsMap": {},
     "title": ""
    }
   },
   "source": [
    "## 4. Derived Features"
   ]
  },
  {
   "cell_type": "markdown",
   "metadata": {
    "application/vnd.databricks.v1+cell": {
     "cellMetadata": {},
     "inputWidgets": {},
     "nuid": "c8298b88-0e75-4677-b768-5569c37baaa2",
     "showTitle": false,
     "tableResultSettingsMap": {},
     "title": ""
    }
   },
   "source": [
    "### 4.1 Add derived features"
   ]
  },
  {
   "cell_type": "code",
   "execution_count": 0,
   "metadata": {
    "application/vnd.databricks.v1+cell": {
     "cellMetadata": {
      "byteLimit": 2048000,
      "rowLimit": 10000
     },
     "inputWidgets": {},
     "nuid": "7f598acd-86cc-424c-9d4b-efbe03e4210c",
     "showTitle": false,
     "tableResultSettingsMap": {},
     "title": ""
    }
   },
   "outputs": [],
   "source": [
    "from pyspark.sql.functions import hour, dayofmonth, month, year, when\n",
    "\n",
    "merged_transactions = spark.sql(\"SELECT * FROM merged_transactions\")\n",
    "\n",
    "# Create new time-related features\n",
    "merged_transactions = merged_transactions.withColumn(\"hour\", hour(\"date\")) \\\n",
    "                                         .withColumn(\"day\", dayofmonth(\"date\")) \\\n",
    "                                         .withColumn(\"month\", month(\"date\")) \\\n",
    "                                         .withColumn(\"year\", year(\"date\")) \\\n",
    "                                         .withColumn(\"time_of_day\", when((col(\"hour\") >= 6) & (col(\"hour\") < 18), \"Day\").otherwise(\"Night\"))\n"
   ]
  },
  {
   "cell_type": "markdown",
   "metadata": {
    "application/vnd.databricks.v1+cell": {
     "cellMetadata": {},
     "inputWidgets": {},
     "nuid": "b8588f79-6e54-494d-af43-201447f74c11",
     "showTitle": false,
     "tableResultSettingsMap": {},
     "title": ""
    }
   },
   "source": [
    "### 4.2 Transactions by Time of Day"
   ]
  },
  {
   "cell_type": "code",
   "execution_count": 0,
   "metadata": {
    "application/vnd.databricks.v1+cell": {
     "cellMetadata": {
      "byteLimit": 2048000,
      "implicitDf": true,
      "rowLimit": 10000
     },
     "inputWidgets": {},
     "nuid": "daae290b-1d5f-4c30-a4c9-04662b9c1df8",
     "showTitle": false,
     "tableResultSettingsMap": {},
     "title": ""
    }
   },
   "outputs": [
    {
     "output_type": "display_data",
     "data": {
      "text/html": [
       "<style scoped>\n",
       "  .table-result-container {\n",
       "    max-height: 300px;\n",
       "    overflow: auto;\n",
       "  }\n",
       "  table, th, td {\n",
       "    border: 1px solid black;\n",
       "    border-collapse: collapse;\n",
       "  }\n",
       "  th, td {\n",
       "    padding: 5px;\n",
       "  }\n",
       "  th {\n",
       "    text-align: left;\n",
       "  }\n",
       "</style><div class='table-result-container'><table class='table-result'><thead style='background-color: white'><tr><th>time_of_day</th><th>total_transactions</th><th>fraudulent_transactions</th></tr></thead><tbody><tr><td>Day</td><td>10179626</td><td>11714</td></tr><tr><td>Night</td><td>3126289</td><td>1618</td></tr></tbody></table></div>"
      ]
     },
     "metadata": {
      "application/vnd.databricks.v1+output": {
       "addedWidgets": {},
       "aggData": [],
       "aggError": "",
       "aggOverflow": false,
       "aggSchema": [],
       "aggSeriesLimitReached": false,
       "aggType": "",
       "arguments": {},
       "columnCustomDisplayInfos": {},
       "data": [
        [
         "Day",
         10179626,
         11714
        ],
        [
         "Night",
         3126289,
         1618
        ]
       ],
       "datasetInfos": [],
       "dbfsResultPath": null,
       "isJsonSchema": true,
       "metadata": {
        "dataframeName": "_sqldf",
        "executionCount": 102
       },
       "overflow": false,
       "plotOptions": {
        "customPlotOptions": {},
        "displayType": "table",
        "pivotAggregation": null,
        "pivotColumns": null,
        "xColumns": null,
        "yColumns": null
       },
       "removedWidgets": [],
       "schema": [
        {
         "metadata": "{}",
         "name": "time_of_day",
         "type": "\"string\""
        },
        {
         "metadata": "{}",
         "name": "total_transactions",
         "type": "\"long\""
        },
        {
         "metadata": "{}",
         "name": "fraudulent_transactions",
         "type": "\"long\""
        }
       ],
       "type": "table"
      }
     },
     "output_type": "display_data"
    }
   ],
   "source": [
    "%sql\n",
    "SELECT \n",
    "    time_of_day,\n",
    "    COUNT(*) AS total_transactions,\n",
    "    SUM(fraud) AS fraudulent_transactions\n",
    "FROM (\n",
    "    SELECT \n",
    "        CASE \n",
    "            WHEN hour(date) >= 6 AND hour(date) < 18 THEN 'Day'\n",
    "            ELSE 'Night'\n",
    "        END AS time_of_day,\n",
    "        fraud\n",
    "    FROM merged_transactions\n",
    ") subquery\n",
    "GROUP BY time_of_day\n",
    "ORDER BY total_transactions DESC;"
   ]
  },
  {
   "cell_type": "markdown",
   "metadata": {
    "application/vnd.databricks.v1+cell": {
     "cellMetadata": {},
     "inputWidgets": {},
     "nuid": "bfc4fb42-6a2e-44c3-87ea-eb3800ebaf45",
     "showTitle": false,
     "tableResultSettingsMap": {},
     "title": ""
    }
   },
   "source": [
    "## 5. Clustering Analysis"
   ]
  },
  {
   "cell_type": "markdown",
   "metadata": {
    "application/vnd.databricks.v1+cell": {
     "cellMetadata": {},
     "inputWidgets": {},
     "nuid": "44a0dcae-644f-4752-bdb2-7b546b31acc8",
     "showTitle": false,
     "tableResultSettingsMap": {},
     "title": ""
    }
   },
   "source": [
    "### 5.1 Cluster Preparation"
   ]
  },
  {
   "cell_type": "code",
   "execution_count": 0,
   "metadata": {
    "application/vnd.databricks.v1+cell": {
     "cellMetadata": {
      "byteLimit": 2048000,
      "rowLimit": 10000
     },
     "inputWidgets": {},
     "nuid": "7ce8bfe7-22cf-4de6-a619-980ed2de7d04",
     "showTitle": false,
     "tableResultSettingsMap": {},
     "title": ""
    }
   },
   "outputs": [
    {
     "output_type": "stream",
     "name": "stdout",
     "output_type": "stream",
     "text": [
      "+----------+-------+\n|prediction|  count|\n+----------+-------+\n|         1|3760457|\n|         2| 199927|\n|         0|9345531|\n+----------+-------+\n\n"
     ]
    }
   ],
   "source": [
    "from pyspark.ml.feature import VectorAssembler\n",
    "from pyspark.ml.clustering import KMeans\n",
    "\n",
    "# Assemble features for clustering\n",
    "assembler = VectorAssembler(inputCols=[\"amount\", \"credit_limit\", \"per_capita_income\"], outputCol=\"features\")\n",
    "clustering_data = assembler.transform(merged_transactions)\n",
    "\n",
    "kmeans = KMeans().setK(3).setSeed(42)  # Use 3 clusters\n",
    "model = kmeans.fit(clustering_data)\n",
    "\n",
    "# Predict clusters\n",
    "clusters = model.transform(clustering_data)\n",
    "\n",
    "# Cluster distribution\n",
    "clusters.groupBy(\"prediction\").count().show()"
   ]
  },
  {
   "cell_type": "markdown",
   "metadata": {
    "application/vnd.databricks.v1+cell": {
     "cellMetadata": {},
     "inputWidgets": {},
     "nuid": "6bc1b0fc-ee1b-453b-b6f0-953c4486fae6",
     "showTitle": false,
     "tableResultSettingsMap": {},
     "title": ""
    }
   },
   "source": [
    "### 5.2 Inspect Characteristics"
   ]
  },
  {
   "cell_type": "code",
   "execution_count": 0,
   "metadata": {
    "application/vnd.databricks.v1+cell": {
     "cellMetadata": {
      "byteLimit": 2048000,
      "rowLimit": 10000
     },
     "inputWidgets": {},
     "nuid": "b271b452-7e83-4a90-8f8c-a32d009e2018",
     "showTitle": false,
     "tableResultSettingsMap": {},
     "title": ""
    }
   },
   "outputs": [
    {
     "output_type": "stream",
     "name": "stdout",
     "output_type": "stream",
     "text": [
      "+----------+------------------+------------------+---------------------+\n|prediction|        avg_amount|  avg_credit_limit|avg_per_capita_income|\n+----------+------------------+------------------+---------------------+\n|         1|51.317508284232524|26503.728852104945|   32236.042375168763|\n|         2| 66.14250561454936| 64119.17460373036|    82768.49722148584|\n|         0| 39.12400122689624|10103.170410434677|    19399.78950002948|\n+----------+------------------+------------------+---------------------+\n\n"
     ]
    }
   ],
   "source": [
    "from pyspark.sql.functions import avg, sum, count, col\n",
    "\n",
    "clusters.groupBy(\"prediction\").agg(\n",
    "    avg(\"amount\").alias(\"avg_amount\"),\n",
    "    avg(\"credit_limit\").alias(\"avg_credit_limit\"),\n",
    "    avg(\"per_capita_income\").alias(\"avg_per_capita_income\")\n",
    ").show()"
   ]
  },
  {
   "cell_type": "markdown",
   "metadata": {
    "application/vnd.databricks.v1+cell": {
     "cellMetadata": {},
     "inputWidgets": {},
     "nuid": "761caf9e-bb59-4a28-a0d6-592e8ef8a423",
     "showTitle": false,
     "tableResultSettingsMap": {},
     "title": ""
    }
   },
   "source": [
    "### 5.3 Identify High-Risk Groups"
   ]
  },
  {
   "cell_type": "code",
   "execution_count": 0,
   "metadata": {
    "application/vnd.databricks.v1+cell": {
     "cellMetadata": {
      "byteLimit": 2048000,
      "rowLimit": 10000
     },
     "inputWidgets": {},
     "nuid": "598d904b-1949-48e1-a48b-d79ae3a81bb7",
     "showTitle": false,
     "tableResultSettingsMap": {},
     "title": ""
    }
   },
   "outputs": [
    {
     "output_type": "stream",
     "name": "stdout",
     "output_type": "stream",
     "text": [
      "+----------+-----------------------+------------------+-------------------+\n|prediction|fraudulent_transactions|total_transactions|         fraud_rate|\n+----------+-----------------------+------------------+-------------------+\n|         1|                   3061|           3760457|0.08139968094303432|\n|         2|                    165|            199927| 0.0825301234950757|\n|         0|                  10106|           9345531|0.10813724763205002|\n+----------+-----------------------+------------------+-------------------+\n\n"
     ]
    }
   ],
   "source": [
    "clusters.groupBy(\"prediction\").agg(\n",
    "    sum(\"fraud\").alias(\"fraudulent_transactions\"),\n",
    "    count(\"*\").alias(\"total_transactions\"),\n",
    "    (sum(\"fraud\") / count(\"*\") * 100).alias(\"fraud_rate\")\n",
    ").show()"
   ]
  },
  {
   "cell_type": "markdown",
   "metadata": {
    "application/vnd.databricks.v1+cell": {
     "cellMetadata": {},
     "inputWidgets": {},
     "nuid": "bfcf70e6-68f6-46c1-879f-599f07482c1e",
     "showTitle": false,
     "tableResultSettingsMap": {},
     "title": ""
    }
   },
   "source": [
    "## 6. Fraud Detection Model"
   ]
  },
  {
   "cell_type": "markdown",
   "metadata": {
    "application/vnd.databricks.v1+cell": {
     "cellMetadata": {},
     "inputWidgets": {},
     "nuid": "e883cb42-3e27-486a-886b-c4ce9d34aab6",
     "showTitle": false,
     "tableResultSettingsMap": {},
     "title": ""
    }
   },
   "source": [
    "### 6.1 Model Preparation"
   ]
  },
  {
   "cell_type": "code",
   "execution_count": 0,
   "metadata": {
    "application/vnd.databricks.v1+cell": {
     "cellMetadata": {
      "byteLimit": 2048000,
      "rowLimit": 10000
     },
     "inputWidgets": {},
     "nuid": "62065b47-21a7-4062-a895-6a291f52dd45",
     "showTitle": false,
     "tableResultSettingsMap": {},
     "title": ""
    }
   },
   "outputs": [
    {
     "output_type": "stream",
     "name": "stdout",
     "output_type": "stream",
     "text": [
      "ROC-AUC: 0.6669766021787534\n"
     ]
    }
   ],
   "source": [
    "from pyspark.ml.classification import RandomForestClassifier\n",
    "from pyspark.ml.evaluation import BinaryClassificationEvaluator\n",
    "\n",
    "assembler = VectorAssembler(inputCols=[\"amount\", \"current_age\", \"per_capita_income\", \"credit_limit\"], outputCol=\"features\")\n",
    "transactions_model_data = assembler.transform(merged_transactions)\n",
    "\n",
    "train_data, test_data = transactions_model_data.randomSplit([0.8, 0.2], seed=1234)\n",
    "\n",
    "# Filter out rows with null or NaN values in the label column\n",
    "train_data = train_data.filter(col(\"fraud\").isNotNull())\n",
    "test_data = test_data.filter(col(\"fraud\").isNotNull())\n",
    "\n",
    "# Train Random Forest model\n",
    "rf = RandomForestClassifier(labelCol=\"fraud\", featuresCol=\"features\")\n",
    "model = rf.fit(train_data)\n",
    "\n",
    "# Make predictions\n",
    "predictions = model.transform(test_data)\n",
    "\n",
    "evaluator = BinaryClassificationEvaluator(labelCol=\"fraud\", metricName=\"areaUnderROC\")\n",
    "roc_auc = evaluator.evaluate(predictions)\n",
    "print(f\"ROC-AUC: {roc_auc}\")"
   ]
  },
  {
   "cell_type": "markdown",
   "metadata": {
    "application/vnd.databricks.v1+cell": {
     "cellMetadata": {},
     "inputWidgets": {},
     "nuid": "7f49e251-44d0-42b4-823d-e0c7837fea95",
     "showTitle": false,
     "tableResultSettingsMap": {},
     "title": ""
    }
   },
   "source": [
    "### 6.2 Results Summary"
   ]
  },
  {
   "cell_type": "code",
   "execution_count": 0,
   "metadata": {
    "application/vnd.databricks.v1+cell": {
     "cellMetadata": {
      "byteLimit": 2048000,
      "rowLimit": 10000
     },
     "inputWidgets": {},
     "nuid": "9f50c853-fc8c-469c-a37d-253b027d7a23",
     "showTitle": false,
     "tableResultSettingsMap": {},
     "title": ""
    }
   },
   "outputs": [
    {
     "output_type": "stream",
     "name": "stdout",
     "output_type": "stream",
     "text": [
      "+-----+----------+-------+\n|fraud|prediction|  count|\n+-----+----------+-------+\n|    1|       0.0|   2626|\n|    0|       0.0|1780696|\n+-----+----------+-------+\n\n"
     ]
    }
   ],
   "source": [
    "predictions.groupBy(\"fraud\", \"prediction\").count().show()"
   ]
  }
 ],
 "metadata": {
  "application/vnd.databricks.v1+notebook": {
   "dashboards": [],
   "environmentMetadata": null,
   "language": "python",
   "notebookMetadata": {
    "mostRecentlyExecutedCommandWithImplicitDF": {
     "commandId": 3324217555813049,
     "dataframes": [
      "_sqldf"
     ]
    },
    "pythonIndentUnit": 4
   },
   "notebookName": "Project",
   "widgets": {}
  }
 },
 "nbformat": 4,
 "nbformat_minor": 0
}
